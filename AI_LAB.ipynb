{
  "nbformat": 4,
  "nbformat_minor": 0,
  "metadata": {
    "colab": {
      "provenance": [],
      "authorship_tag": "ABX9TyOVbBic/uwLaa9PIZJ591ct",
      "include_colab_link": true
    },
    "kernelspec": {
      "name": "python3",
      "display_name": "Python 3"
    },
    "language_info": {
      "name": "python"
    }
  },
  "cells": [
    {
      "cell_type": "markdown",
      "metadata": {
        "id": "view-in-github",
        "colab_type": "text"
      },
      "source": [
        "<a href=\"https://colab.research.google.com/github/Annie173/AI-Store-Charts/blob/master/AI_LAB.ipynb\" target=\"_parent\"><img src=\"https://colab.research.google.com/assets/colab-badge.svg\" alt=\"Open In Colab\"/></a>"
      ]
    },
    {
      "cell_type": "code",
      "execution_count": 1,
      "metadata": {
        "colab": {
          "base_uri": "https://localhost:8080/"
        },
        "id": "9ANZ7oze2wjY",
        "outputId": "4ca69b82-b5f6-4ad3-bacf-2f1a0fca70c8"
      },
      "outputs": [
        {
          "output_type": "stream",
          "name": "stdout",
          "text": [
            "(0, 0)\n",
            "(0, 3)\n",
            "(3, 0)\n",
            "(3, 3)\n",
            "(4, 2)\n"
          ]
        }
      ],
      "source": [
        "# Water Jug\n",
        "from collections import deque\n",
        "\n",
        "def is_valid_state(state, visited):\n",
        "    jugA, jugB = state\n",
        "    if (jugA, jugB) in visited:\n",
        "        return False\n",
        "    return 0 <= jugA <= 4 and 0 <= jugB <= 3\n",
        "\n",
        "def get_next_states(state):\n",
        "    jugA, jugB = state\n",
        "    next_states = []\n",
        "\n",
        "    # Fill jug A\n",
        "    next_states.append((4, jugB))\n",
        "\n",
        "    # Fill jug B\n",
        "    next_states.append((jugA, 3))\n",
        "\n",
        "    # Empty jug A\n",
        "    next_states.append((0, jugB))\n",
        "\n",
        "    # Empty jug B\n",
        "    next_states.append((jugA, 0))\n",
        "\n",
        "    # Pour water from jug A to jug B\n",
        "    pour_to_B = min(jugA, 3 - jugB)\n",
        "    next_states.append((jugA - pour_to_B, jugB + pour_to_B))\n",
        "\n",
        "    # Pour water from jug B to jug A\n",
        "    pour_to_A = min(jugB, 4 - jugA)\n",
        "    next_states.append((jugA + pour_to_A, jugB - pour_to_A))\n",
        "\n",
        "    return next_states\n",
        "\n",
        "def solve_water_jug_problem():\n",
        "    start_state = (0, 0)\n",
        "    goal_state = 2\n",
        "    visited = set()\n",
        "    queue = deque([(start_state, [])])\n",
        "\n",
        "    while queue:\n",
        "        (current_state, path) = queue.popleft()\n",
        "\n",
        "        if current_state in visited:\n",
        "            continue\n",
        "\n",
        "        visited.add(current_state)\n",
        "        jugA, jugB = current_state\n",
        "\n",
        "        if jugA == goal_state or jugB == goal_state:\n",
        "            return path + [current_state]\n",
        "\n",
        "        for next_state in get_next_states(current_state):\n",
        "            if is_valid_state(next_state, visited):\n",
        "                queue.append((next_state, path + [current_state]))\n",
        "\n",
        "    return None\n",
        "\n",
        "# Run the solver\n",
        "solution = solve_water_jug_problem()\n",
        "if solution:\n",
        "    for step in solution:\n",
        "        print(step)\n",
        "else:\n",
        "    print(\"No solution found\")\n"
      ]
    },
    {
      "cell_type": "code",
      "source": [
        "# DFS\n",
        "def dfs(graph, start, visited=None):\n",
        "    if visited is None:\n",
        "        visited = set()\n",
        "    visited.add(start)\n",
        "    print(start, end=' ')\n",
        "\n",
        "    for neighbor in graph[start]:\n",
        "        if neighbor not in visited:\n",
        "            dfs(graph, neighbor, visited)\n",
        "\n",
        "# Example graph\n",
        "graph = {\n",
        "    'A': ['B', 'C'],\n",
        "    'B': ['D', 'E'],\n",
        "    'C': ['F'],\n",
        "    'D': [],\n",
        "    'E': ['F'],\n",
        "    'F': []\n",
        "}\n",
        "\n",
        "# Run DFS starting from node 'A'\n",
        "dfs(graph, 'A')\n"
      ],
      "metadata": {
        "colab": {
          "base_uri": "https://localhost:8080/"
        },
        "id": "04x8BtBL3E1M",
        "outputId": "aca3bb08-eda5-4094-f216-6d9504adcc4f"
      },
      "execution_count": 2,
      "outputs": [
        {
          "output_type": "stream",
          "name": "stdout",
          "text": [
            "A B D E F C "
          ]
        }
      ]
    },
    {
      "cell_type": "code",
      "source": [
        "#BFS\n",
        "def bfs(graph, start):\n",
        "    visited = set()\n",
        "    queue = deque([start])\n",
        "    visited.add(start)\n",
        "\n",
        "    while queue:\n",
        "        node = queue.popleft()\n",
        "        print(node, end=' ')\n",
        "\n",
        "        for neighbor in graph[node]:\n",
        "            if neighbor not in visited:\n",
        "                visited.add(neighbor)\n",
        "                queue.append(neighbor)\n",
        "\n",
        "# Example graph\n",
        "graph = {\n",
        "    'A': ['B', 'C'],\n",
        "    'B': ['D', 'E'],\n",
        "    'C': ['F'],\n",
        "    'D': [],\n",
        "    'E': ['F'],\n",
        "    'F': []\n",
        "}\n",
        "\n",
        "# Run BFS starting from node 'A'\n",
        "bfs(graph, 'A')\n"
      ],
      "metadata": {
        "colab": {
          "base_uri": "https://localhost:8080/"
        },
        "id": "-8bWqoCM3MN7",
        "outputId": "590c2d17-5503-485e-95e8-059bc161797e"
      },
      "execution_count": 4,
      "outputs": [
        {
          "output_type": "stream",
          "name": "stdout",
          "text": [
            "A B C D E F "
          ]
        }
      ]
    },
    {
      "cell_type": "code",
      "source": [
        "#Factorial of a number\n",
        "def factorial(n):\n",
        "    if n < 0:\n",
        "        return \"Factorial is not defined for negative numbers.\"\n",
        "    if n == 0 or n == 1:\n",
        "        return 1\n",
        "    return n * factorial(n - 1)\n",
        "\n",
        "# Input from user\n",
        "num = int(input(\"Enter a number: \"))\n",
        "print(\"Factorial : \",factorial(num))\n"
      ],
      "metadata": {
        "colab": {
          "base_uri": "https://localhost:8080/"
        },
        "id": "w2S81SQ53MxG",
        "outputId": "e172cafc-bf56-47c0-fc3f-6365dc8c0e43"
      },
      "execution_count": 8,
      "outputs": [
        {
          "output_type": "stream",
          "name": "stdout",
          "text": [
            "Enter a number: 5\n",
            "Factorial :  120\n"
          ]
        }
      ]
    },
    {
      "cell_type": "code",
      "source": [
        "#Length of List\n",
        "example_list = [1, 2, 3, 4, 5]\n",
        "print(len(example_list))\n"
      ],
      "metadata": {
        "colab": {
          "base_uri": "https://localhost:8080/"
        },
        "id": "L5w1N6dv3Nrr",
        "outputId": "d80fc6f4-5e98-424e-ad50-c1879fa99d4d"
      },
      "execution_count": 9,
      "outputs": [
        {
          "output_type": "stream",
          "name": "stdout",
          "text": [
            "5\n"
          ]
        }
      ]
    },
    {
      "cell_type": "code",
      "source": [
        "#Reverse a list\n",
        "example_list = [1, 2, 3, 4, 5]\n",
        "print(example_list[::-1])\n"
      ],
      "metadata": {
        "colab": {
          "base_uri": "https://localhost:8080/"
        },
        "id": "PXbuZGEF3O_L",
        "outputId": "f0c9ed45-b0f1-45bf-cc42-816baffc22ea"
      },
      "execution_count": 10,
      "outputs": [
        {
          "output_type": "stream",
          "name": "stdout",
          "text": [
            "[5, 4, 3, 2, 1]\n"
          ]
        }
      ]
    }
  ]
}